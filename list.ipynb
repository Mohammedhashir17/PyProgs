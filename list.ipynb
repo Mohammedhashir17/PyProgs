{
 "cells": [
  {
   "cell_type": "code",
   "execution_count": 1,
   "id": "37fddd78-91dd-4dbe-8369-925a1686aae7",
   "metadata": {},
   "outputs": [
    {
     "name": "stdout",
     "output_type": "stream",
     "text": [
      "Original List: [10, 20, 30, 40, 50]\n",
      "After append(60): [10, 20, 30, 40, 50, 60]\n",
      "After extend([70, 80]): [10, 20, 30, 40, 50, 60, 70, 80]\n",
      "After insert(2, 25): [10, 20, 25, 30, 40, 50, 60, 70, 80]\n",
      "After remove(30): [10, 20, 25, 40, 50, 60, 70, 80]\n",
      "After pop(): [10, 20, 25, 40, 50, 60, 70] | Removed element: 80\n",
      "Index of 40: 3\n",
      "Count of 20: 1\n",
      "After reverse(): [70, 60, 50, 40, 25, 20, 10]\n",
      "After sort(): [10, 20, 25, 40, 50, 60, 70]\n",
      "Copied list: [10, 20, 25, 40, 50, 60, 70]\n",
      "After clear(): []\n",
      "Length of the list: 7\n",
      "Maximum value: 70\n",
      "Minimum value: 10\n",
      "Sum of all elements: 275\n"
     ]
    }
   ],
   "source": [
    "# Define a sample list\n",
    "my_list = [10, 20, 30, 40, 50]\n",
    "\n",
    "print(\"Original List:\", my_list)\n",
    "\n",
    "# 1. append() - Add an element to the end of the list\n",
    "my_list.append(60)\n",
    "print(\"After append(60):\", my_list)\n",
    "\n",
    "# 2. extend() - Extend the list by appending elements from another list\n",
    "my_list.extend([70, 80])\n",
    "print(\"After extend([70, 80]):\", my_list)\n",
    "\n",
    "# 3. insert() - Insert an element at a specific index\n",
    "my_list.insert(2, 25)\n",
    "print(\"After insert(2, 25):\", my_list)\n",
    "\n",
    "# 4. remove() - Remove the first occurrence of a value\n",
    "my_list.remove(30)\n",
    "print(\"After remove(30):\", my_list)\n",
    "\n",
    "# 5. pop() - Remove and return an element at a specific index (default is the last)\n",
    "removed_element = my_list.pop()\n",
    "print(\"After pop():\", my_list, \"| Removed element:\", removed_element)\n",
    "\n",
    "# 6. index() - Return the index of the first occurrence of a value\n",
    "index_of_40 = my_list.index(40)\n",
    "print(\"Index of 40:\", index_of_40)\n",
    "\n",
    "# 7. count() - Count the occurrences of a value\n",
    "count_of_20 = my_list.count(20)\n",
    "print(\"Count of 20:\", count_of_20)\n",
    "\n",
    "# 8. reverse() - Reverse the list in place\n",
    "my_list.reverse()\n",
    "print(\"After reverse():\", my_list)\n",
    "\n",
    "# 9. sort() - Sort the list in ascending order\n",
    "my_list.sort()\n",
    "print(\"After sort():\", my_list)\n",
    "\n",
    "# 10. copy() - Return a shallow copy of the list\n",
    "copied_list = my_list.copy()\n",
    "print(\"Copied list:\", copied_list)\n",
    "\n",
    "# 11. clear() - Remove all elements from the list\n",
    "copied_list.clear()\n",
    "print(\"After clear():\", copied_list)\n",
    "\n",
    "# 12. len() - Return the number of elements in the list\n",
    "length = len(my_list)\n",
    "print(\"Length of the list:\", length)\n",
    "\n",
    "# 13. max() - Return the largest item in the list\n",
    "max_value = max(my_list)\n",
    "print(\"Maximum value:\", max_value)\n",
    "\n",
    "# 14. min() - Return the smallest item in the list\n",
    "min_value = min(my_list)\n",
    "print(\"Minimum value:\", min_value)\n",
    "\n",
    "# 15. sum() - Return the sum of all elements in the list\n",
    "total_sum = sum(my_list)\n",
    "print(\"Sum of all elements:\", total_sum)"
   ]
  },
  {
   "cell_type": "code",
   "execution_count": null,
   "id": "d44e99fd-0396-4c0b-b36b-51b8b61b42c8",
   "metadata": {},
   "outputs": [],
   "source": []
  }
 ],
 "metadata": {
  "kernelspec": {
   "display_name": "Python 3 (ipykernel)",
   "language": "python",
   "name": "python3"
  },
  "language_info": {
   "codemirror_mode": {
    "name": "ipython",
    "version": 3
   },
   "file_extension": ".py",
   "mimetype": "text/x-python",
   "name": "python",
   "nbconvert_exporter": "python",
   "pygments_lexer": "ipython3",
   "version": "3.12.5"
  }
 },
 "nbformat": 4,
 "nbformat_minor": 5
}
