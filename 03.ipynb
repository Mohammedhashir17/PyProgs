{
 "cells": [
  {
   "cell_type": "code",
   "execution_count": 7,
   "id": "ade048c9-7071-4b27-81eb-4629d918f586",
   "metadata": {},
   "outputs": [
    {
     "name": "stdout",
     "output_type": "stream",
     "text": [
      "Fizz Buzz Program\n"
     ]
    },
    {
     "name": "stdin",
     "output_type": "stream",
     "text": [
      "Enter the number of terms you want to display: 15\n"
     ]
    },
    {
     "name": "stdout",
     "output_type": "stream",
     "text": [
      "0 Fizz Buzz\n",
      "1\n",
      "2\n",
      "3 Fizz\n",
      "4\n",
      "5 Buzz\n",
      "6 Fizz\n",
      "7\n",
      "8\n",
      "9 Fizz\n",
      "10 Buzz\n",
      "11\n",
      "12 Fizz\n",
      "13\n",
      "14\n",
      "15 Fizz Buzz\n"
     ]
    }
   ],
   "source": [
    "print(\"Fizz Buzz Program\")\n",
    "n=int(input(\"Enter the number of terms you want to display:\"))\n",
    "if(n>0):\n",
    "    for i in range (n+1):\n",
    "        if(i%3==0 and i%5==0):\n",
    "            print(str(i)+\" Fizz Buzz\")\n",
    "        elif(i%3==0):\n",
    "            print(str(i)+\" Fizz\")\n",
    "        elif(i%5==0):\n",
    "            print(str(i)+\" Buzz\")\n",
    "        else:\n",
    "            print(i)"
   ]
  },
  {
   "cell_type": "code",
   "execution_count": null,
   "id": "758a9de8-72df-45c7-8302-de0cc4918765",
   "metadata": {},
   "outputs": [],
   "source": []
  }
 ],
 "metadata": {
  "kernelspec": {
   "display_name": "Python 3 (ipykernel)",
   "language": "python",
   "name": "python3"
  },
  "language_info": {
   "codemirror_mode": {
    "name": "ipython",
    "version": 3
   },
   "file_extension": ".py",
   "mimetype": "text/x-python",
   "name": "python",
   "nbconvert_exporter": "python",
   "pygments_lexer": "ipython3",
   "version": "3.12.5"
  }
 },
 "nbformat": 4,
 "nbformat_minor": 5
}
