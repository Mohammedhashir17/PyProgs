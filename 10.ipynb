{
 "cells": [
  {
   "cell_type": "code",
   "execution_count": null,
   "id": "fd1cf56d-d862-4e73-b9d6-cc3a70fa7fbc",
   "metadata": {},
   "outputs": [
    {
     "name": "stdin",
     "output_type": "stream",
     "text": [
      "Enter your choice of door: 1\n",
      "Do you want to swap y/n: y\n"
     ]
    },
    {
     "name": "stdout",
     "output_type": "stream",
     "text": [
      "Player wins\n"
     ]
    },
    {
     "name": "stdin",
     "output_type": "stream",
     "text": [
      "Enter your choice of door: 1\n",
      "Do you want to swap y/n: n\n"
     ]
    },
    {
     "name": "stdout",
     "output_type": "stream",
     "text": [
      "Player lost\n"
     ]
    }
   ],
   "source": [
    "import random\n",
    "doors=[0]*3\n",
    "goatdoor=[]*2\n",
    "swap=0\n",
    "dont_swap=0\n",
    "i=0\n",
    "while(1<10):\n",
    "    x=random.randint(0,2)\n",
    "    doors[x]=\"BMW\"\n",
    "    for i in range(0,3):\n",
    "        if(i==x):\n",
    "            continue\n",
    "        else:\n",
    "            doors[i]=\"Goat\"\n",
    "            goatdoor.append(i)\n",
    "    ch=int(input(\"Enter your choice of door:\"))\n",
    "    door_open=random.choice(goatdoor)\n",
    "    while(door_open==ch):\n",
    "        door_open=random.choice(goatdoor)\n",
    "    c=input(\"Do you want to swap y/n:\")\n",
    "    if(c==\"y\"):\n",
    "        if(doors[ch]==\"Goat\"):\n",
    "            print(\"Player wins\")\n",
    "            swap+=1\n",
    "        else:\n",
    "            print(\"Player lost\")\n",
    "    else:\n",
    "        if(doors[ch]==\"Goat\"):\n",
    "            print(\"Player lost\")\n",
    "        else:\n",
    "            print(\"Player wins\")\n",
    "            dont_swap+=1\n",
    "print(\"No of swap wins\",swap)\n",
    "print(\"No of dont swap wins\",dont_swap)"
   ]
  },
  {
   "cell_type": "code",
   "execution_count": null,
   "id": "163c6435-4a7b-4544-8b9e-dae9650e5047",
   "metadata": {},
   "outputs": [],
   "source": []
  }
 ],
 "metadata": {
  "kernelspec": {
   "display_name": "Python 3 (ipykernel)",
   "language": "python",
   "name": "python3"
  },
  "language_info": {
   "codemirror_mode": {
    "name": "ipython",
    "version": 3
   },
   "file_extension": ".py",
   "mimetype": "text/x-python",
   "name": "python",
   "nbconvert_exporter": "python",
   "pygments_lexer": "ipython3",
   "version": "3.12.5"
  }
 },
 "nbformat": 4,
 "nbformat_minor": 5
}
