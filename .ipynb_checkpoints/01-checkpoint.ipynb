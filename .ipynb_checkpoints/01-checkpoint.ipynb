{
 "cells": [
  {
   "cell_type": "code",
   "execution_count": 4,
   "id": "b1c798c8-1912-42ad-8b8d-5395c6b94165",
   "metadata": {},
   "outputs": [
    {
     "name": "stdout",
     "output_type": "stream",
     "text": [
      "Choose any one operation: 1.ADD 2.SUB 3.MUL 4.DIV 5.EXIT\n"
     ]
    },
    {
     "name": "stdin",
     "output_type": "stream",
     "text": [
      "Enter your choice of operation: 4\n",
      "Enter the value of A: 10\n",
      "Enter the value of B: 4\n"
     ]
    },
    {
     "name": "stdout",
     "output_type": "stream",
     "text": [
      "Division of number\n",
      "The Resut of 10 / 4 = 2.5\n"
     ]
    }
   ],
   "source": [
    "print(\"Choose any one operation: 1.ADD 2.SUB 3.MUL 4.DIV 5.EXIT\")\n",
    "ch=int(input(\"Enter your choice of operation:\"))\n",
    "a=int(input(\"Enter the value of A:\"))\n",
    "b=int(input(\"Enter the value of B:\"))\n",
    "if(ch==1):\n",
    "    print(\"Addition of number\")\n",
    "    c=a+b\n",
    "    print(\"The Resut of\",a,\"+\",b,\"=\",c)\n",
    "elif(ch==2):\n",
    "    print(\"Subtraction of number\")\n",
    "    c=a-b\n",
    "    print(\"The Resut of\",a,\"-\",b,\"=\",c)\n",
    "elif(ch==3):\n",
    "    print(\"Multiplication of number\")\n",
    "    c=a*b\n",
    "    print(\"The Resut of\",a,\"*\",b,\"=\",c)\n",
    "elif(ch==4):\n",
    "    print(\"Division of number\")\n",
    "    c=a/b\n",
    "    print(\"The Resut of\",a,\"/\",b,\"=\",c)\n",
    "else:\n",
    "    print(\"You have choosen the wrong option:\")\n",
    "    exit()"
   ]
  },
  {
   "cell_type": "code",
   "execution_count": null,
   "id": "cb3c2338-6d4d-4fa9-94b7-fe4370fd0ab2",
   "metadata": {},
   "outputs": [],
   "source": []
  }
 ],
 "metadata": {
  "kernelspec": {
   "display_name": "Python 3 (ipykernel)",
   "language": "python",
   "name": "python3"
  },
  "language_info": {
   "codemirror_mode": {
    "name": "ipython",
    "version": 3
   },
   "file_extension": ".py",
   "mimetype": "text/x-python",
   "name": "python",
   "nbconvert_exporter": "python",
   "pygments_lexer": "ipython3",
   "version": "3.12.5"
  }
 },
 "nbformat": 4,
 "nbformat_minor": 5
}
