{
 "cells": [
  {
   "cell_type": "code",
   "execution_count": 9,
   "id": "72c551a3-994b-4b38-b844-00c6c399be01",
   "metadata": {},
   "outputs": [
    {
     "name": "stdout",
     "output_type": "stream",
     "text": [
      "Fibonacci Series\n"
     ]
    },
    {
     "name": "stdin",
     "output_type": "stream",
     "text": [
      "Enter the number of terms you want to display: 10\n"
     ]
    },
    {
     "name": "stdout",
     "output_type": "stream",
     "text": [
      "0\n",
      "1\n",
      "1\n",
      "2\n",
      "3\n",
      "5\n",
      "8\n",
      "13\n",
      "21\n",
      "34\n",
      "55\n"
     ]
    }
   ],
   "source": [
    "print(\"Fibonacci Series\")\n",
    "n=int(input(\"Enter the number of terms you want to display:\"))\n",
    "if(i>0):\n",
    "    f=0\n",
    "    s=1\n",
    "    next=0\n",
    "    i=0\n",
    "    for i in range(n+1):\n",
    "        if(i<2):\n",
    "            print(i)\n",
    "        else:\n",
    "            next=f+s\n",
    "            f=s\n",
    "            s=next\n",
    "            print(next)\n",
    "else:\n",
    "    print(\"Invalid Integer\")"
   ]
  },
  {
   "cell_type": "code",
   "execution_count": null,
   "id": "40078e8d-3bc1-4634-add3-187132f62ea9",
   "metadata": {},
   "outputs": [],
   "source": []
  }
 ],
 "metadata": {
  "kernelspec": {
   "display_name": "Python 3 (ipykernel)",
   "language": "python",
   "name": "python3"
  },
  "language_info": {
   "codemirror_mode": {
    "name": "ipython",
    "version": 3
   },
   "file_extension": ".py",
   "mimetype": "text/x-python",
   "name": "python",
   "nbconvert_exporter": "python",
   "pygments_lexer": "ipython3",
   "version": "3.12.5"
  }
 },
 "nbformat": 4,
 "nbformat_minor": 5
}
