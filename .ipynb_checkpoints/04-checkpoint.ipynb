{
 "cells": [
  {
   "cell_type": "code",
   "execution_count": null,
   "id": "f1439604-94a2-4f1e-a7c7-04e95c549e0f",
   "metadata": {},
   "outputs": [],
   "source": [
    "print(\"crowd computing\")\n",
    "Estimats=[500,200,100,600,700,800,200,300,100,450,850,350,250,150,750,650,125,925,725,255]\n",
    "for i in range(len(Estimates)):\n",
    "    print(Estimates[i])\n",
    "Estimates.sort()\n",
    "for i in range(len(Estimates)):\n",
    "    print(Estimates[i])\n",
    "tv=0.1*len(Estimates)\n",
    "Estimates=Estimates[tv:len(Estimates)-tv]\n",
    "for i in range(len(Estimates)):\n",
    "    print(Estimates[i])"
   ]
  }
 ],
 "metadata": {
  "kernelspec": {
   "display_name": "Python 3 (ipykernel)",
   "language": "python",
   "name": "python3"
  },
  "language_info": {
   "codemirror_mode": {
    "name": "ipython",
    "version": 3
   },
   "file_extension": ".py",
   "mimetype": "text/x-python",
   "name": "python",
   "nbconvert_exporter": "python",
   "pygments_lexer": "ipython3",
   "version": "3.12.5"
  }
 },
 "nbformat": 4,
 "nbformat_minor": 5
}
