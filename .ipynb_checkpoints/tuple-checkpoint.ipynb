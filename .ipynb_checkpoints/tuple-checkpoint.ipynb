{
 "cells": [
  {
   "cell_type": "code",
   "execution_count": 1,
   "id": "c8307796-5620-4106-9b3e-bbd1eb7b609b",
   "metadata": {},
   "outputs": [
    {
     "name": "stdout",
     "output_type": "stream",
     "text": [
      "Original Tuple: (10, 20, 30, 40, 50, 60, 70, 80, 90, 100)\n",
      "Element at index 2: 30\n",
      "Sliced Tuple (2 to 5): (30, 40, 50, 60)\n",
      "Length of Tuple: 10\n",
      "Count of 20: 1\n",
      "Index of 40: 3\n",
      "Is 30 in the tuple? True\n",
      "Concatenated Tuple: (10, 20, 30, 40, 50, 60, 70, 80, 90, 100, 110, 120)\n",
      "Repeated Tuple: (10, 20, 30, 40, 50, 60, 70, 80, 90, 100, 10, 20, 30, 40, 50, 60, 70, 80, 90, 100)\n",
      "Minimum Value: 10\n",
      "Maximum Value: 100\n",
      "Sorted Tuple: (10, 20, 30, 40, 50, 60, 70, 80, 90, 100)\n",
      "Unpacked values - a: 10 b: 20 c: 30 rest: [40, 50, 60, 70, 80, 90, 100]\n",
      "Nested Tuple: (1, 2, (3, 4, 5), (6, 7))\n",
      "Element in nested tuple: 4\n",
      "Converted Tuple from List: (200, 300, 400)\n"
     ]
    }
   ],
   "source": [
    "# Tuple Example and Functions\n",
    "\n",
    "# 1. Creating a Tuple\n",
    "my_tuple = (10, 20, 30, 40, 50, 60, 70, 80, 90, 100)\n",
    "print(\"Original Tuple:\", my_tuple)\n",
    "\n",
    "# 2. Accessing Elements\n",
    "print(\"Element at index 2:\", my_tuple[2])\n",
    "\n",
    "# 3. Slicing a Tuple\n",
    "print(\"Sliced Tuple (2 to 5):\", my_tuple[2:6])\n",
    "\n",
    "# 4. Finding Length\n",
    "print(\"Length of Tuple:\", len(my_tuple))\n",
    "\n",
    "# 5. Count Occurrences\n",
    "print(\"Count of 20:\", my_tuple.count(20))\n",
    "\n",
    "# 6. Finding an Element's Index\n",
    "print(\"Index of 40:\", my_tuple.index(40))\n",
    "\n",
    "# 7. Checking Membership\n",
    "print(\"Is 30 in the tuple?\", 30 in my_tuple)\n",
    "\n",
    "# 8. Concatenating Tuples\n",
    "another_tuple = (110, 120)\n",
    "concatenated_tuple = my_tuple + another_tuple\n",
    "print(\"Concatenated Tuple:\", concatenated_tuple)\n",
    "\n",
    "# 9. Repeating Tuples\n",
    "repeated_tuple = my_tuple * 2\n",
    "print(\"Repeated Tuple:\", repeated_tuple)\n",
    "\n",
    "# 10. Minimum Value\n",
    "print(\"Minimum Value:\", min(my_tuple))\n",
    "\n",
    "# 11. Maximum Value\n",
    "print(\"Maximum Value:\", max(my_tuple))\n",
    "\n",
    "# 12. Sorting a Tuple\n",
    "sorted_tuple = tuple(sorted(my_tuple))\n",
    "print(\"Sorted Tuple:\", sorted_tuple)\n",
    "\n",
    "# 13. Unpacking Tuples\n",
    "a, b, c, *rest = my_tuple\n",
    "print(\"Unpacked values - a:\", a, \"b:\", b, \"c:\", c, \"rest:\", rest)\n",
    "\n",
    "# 14. Nested Tuples\n",
    "nested_tuple = (1, 2, (3, 4, 5), (6, 7))\n",
    "print(\"Nested Tuple:\", nested_tuple)\n",
    "\n",
    "# Accessing an element in a nested tuple\n",
    "print(\"Element in nested tuple:\", nested_tuple[2][1])\n",
    "\n",
    "# 15. Converting a List to Tuple\n",
    "my_list = [200, 300, 400]\n",
    "converted_tuple = tuple(my_list)\n",
    "print(\"Converted Tuple from List:\", converted_tuple)"
   ]
  },
  {
   "cell_type": "code",
   "execution_count": null,
   "id": "1e5e3623-cf14-4e0b-8f84-f21885d63058",
   "metadata": {},
   "outputs": [],
   "source": []
  }
 ],
 "metadata": {
  "kernelspec": {
   "display_name": "Python 3 (ipykernel)",
   "language": "python",
   "name": "python3"
  },
  "language_info": {
   "codemirror_mode": {
    "name": "ipython",
    "version": 3
   },
   "file_extension": ".py",
   "mimetype": "text/x-python",
   "name": "python",
   "nbconvert_exporter": "python",
   "pygments_lexer": "ipython3",
   "version": "3.12.5"
  }
 },
 "nbformat": 4,
 "nbformat_minor": 5
}
