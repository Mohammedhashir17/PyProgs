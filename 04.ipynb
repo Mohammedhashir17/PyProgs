{
 "cells": [
  {
   "cell_type": "code",
   "execution_count": 15,
   "id": "f1439604-94a2-4f1e-a7c7-04e95c549e0f",
   "metadata": {},
   "outputs": [
    {
     "name": "stdout",
     "output_type": "stream",
     "text": [
      "crowd computing\n",
      "500\n",
      "200\n",
      "100\n",
      "600\n",
      "700\n",
      "800\n",
      "200\n",
      "300\n",
      "100\n",
      "450\n",
      "850\n",
      "350\n",
      "250\n",
      "150\n",
      "750\n",
      "650\n",
      "125\n",
      "925\n",
      "725\n",
      "255\n",
      "SORTED VALUES\n",
      "100\n",
      "100\n",
      "125\n",
      "150\n",
      "200\n",
      "200\n",
      "250\n",
      "255\n",
      "300\n",
      "350\n",
      "450\n",
      "500\n",
      "600\n",
      "650\n",
      "700\n",
      "725\n",
      "750\n",
      "800\n",
      "850\n",
      "925\n",
      "Estimating values\n",
      "2\n",
      "COMPUTED VAlUES\n",
      "125\n",
      "150\n",
      "200\n",
      "200\n",
      "250\n",
      "255\n",
      "300\n",
      "350\n",
      "450\n",
      "500\n",
      "600\n",
      "650\n",
      "700\n",
      "725\n",
      "750\n",
      "800\n",
      "\t 437.8125\n"
     ]
    }
   ],
   "source": [
    "from statistics import mean\n",
    "print(\"crowd computing\")\n",
    "Estimates=[500,200,100,600,700,800,200,300,100,450,850,350,250,150,750,650,125,925,725,255]\n",
    "for i in range(len(Estimates)):\n",
    "    print(Estimates[i])\n",
    "Estimates.sort()\n",
    "print(\"SORTED VALUES\")\n",
    "for i in range(len(Estimates)):\n",
    "    print(Estimates[i])\n",
    "tv=int(0.1*len(Estimates))\n",
    "print(\"Estimating values\")\n",
    "print(tv)\n",
    "Estimates=Estimates[tv:len(Estimates)-tv]\n",
    "print(\"COMPUTED VAlUES\")\n",
    "for i in range(len(Estimates)):\n",
    "    print(Estimates[i])\n",
    "print(\"\\t\",mean(Estimates))"
   ]
  },
  {
   "cell_type": "code",
   "execution_count": null,
   "id": "3698e29c-144c-4d15-902c-76ba638b39cb",
   "metadata": {},
   "outputs": [],
   "source": []
  }
 ],
 "metadata": {
  "kernelspec": {
   "display_name": "Python 3 (ipykernel)",
   "language": "python",
   "name": "python3"
  },
  "language_info": {
   "codemirror_mode": {
    "name": "ipython",
    "version": 3
   },
   "file_extension": ".py",
   "mimetype": "text/x-python",
   "name": "python",
   "nbconvert_exporter": "python",
   "pygments_lexer": "ipython3",
   "version": "3.12.5"
  }
 },
 "nbformat": 4,
 "nbformat_minor": 5
}
