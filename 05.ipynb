{
 "cells": [
  {
   "cell_type": "code",
   "execution_count": 4,
   "id": "9ec271ec-fdf1-4d37-9510-03e280bbad07",
   "metadata": {},
   "outputs": [
    {
     "name": "stdin",
     "output_type": "stream",
     "text": [
      "Enter the name of Player 1: hashir\n",
      "Enter the name of Player 2: azhan\n"
     ]
    },
    {
     "name": "stdout",
     "output_type": "stream",
     "text": [
      "The question is: cat\n",
      "azhan Your turn\n"
     ]
    },
    {
     "name": "stdin",
     "output_type": "stream",
     "text": [
      "Enter your answer: cat\n"
     ]
    },
    {
     "name": "stdout",
     "output_type": "stream",
     "text": [
      "The question was: cat\n",
      "The answer you given is: cat\n",
      "Congrats Bro! You won\n"
     ]
    },
    {
     "name": "stdin",
     "output_type": "stream",
     "text": [
      "Do you want to Exit then press 1: 0\n"
     ]
    },
    {
     "name": "stdout",
     "output_type": "stream",
     "text": [
      "The question is: olld\n",
      "hashir Your turn\n"
     ]
    },
    {
     "name": "stdin",
     "output_type": "stream",
     "text": [
      "Enter your answer: doll\n"
     ]
    },
    {
     "name": "stdout",
     "output_type": "stream",
     "text": [
      "The question was: olld\n",
      "The answer you given is: doll\n",
      "Congrats Bro! you won\n"
     ]
    },
    {
     "name": "stdin",
     "output_type": "stream",
     "text": [
      "Do you want to exit the  press 1: 0\n"
     ]
    },
    {
     "name": "stdout",
     "output_type": "stream",
     "text": [
      "The question is: lpaep\n",
      "azhan Your turn\n"
     ]
    },
    {
     "name": "stdin",
     "output_type": "stream",
     "text": [
      "Enter your answer: appel\n"
     ]
    },
    {
     "name": "stdout",
     "output_type": "stream",
     "text": [
      "Better luck next time Bro\n"
     ]
    },
    {
     "name": "stdin",
     "output_type": "stream",
     "text": [
      "Do you want to Exit then press 1: 0\n"
     ]
    },
    {
     "name": "stdout",
     "output_type": "stream",
     "text": [
      "The question is: plhneeta\n",
      "hashir Your turn\n"
     ]
    },
    {
     "name": "stdin",
     "output_type": "stream",
     "text": [
      "Enter your answer: elephant\n"
     ]
    },
    {
     "name": "stdout",
     "output_type": "stream",
     "text": [
      "The question was: plhneeta\n",
      "The answer you given is: elephant\n",
      "Congrats Bro! you won\n"
     ]
    },
    {
     "name": "stdin",
     "output_type": "stream",
     "text": [
      "Do you want to exit the  press 1: 0\n"
     ]
    },
    {
     "name": "stdout",
     "output_type": "stream",
     "text": [
      "The question is: palpe\n",
      "azhan Your turn\n"
     ]
    },
    {
     "name": "stdin",
     "output_type": "stream",
     "text": [
      "Enter your answer: apple\n"
     ]
    },
    {
     "name": "stdout",
     "output_type": "stream",
     "text": [
      "The question was: palpe\n",
      "The answer you given is: apple\n",
      "Congrats Bro! You won\n"
     ]
    },
    {
     "name": "stdin",
     "output_type": "stream",
     "text": [
      "Do you want to Exit then press 1: 1\n"
     ]
    },
    {
     "name": "stdout",
     "output_type": "stream",
     "text": [
      "hashir Your Score is 2\n",
      "azhan Your Score is 2\n",
      "Thank you for playing\n"
     ]
    }
   ],
   "source": [
    "import random\n",
    "def choose():\n",
    "    word=['apple','ball','cat','doll','elephant']\n",
    "    pick=random.choice(word)\n",
    "    return pick\n",
    "def jumble(word):\n",
    "    jumbled_word=\"\".join(random.sample(word,len(word)))\n",
    "    return jumbled_word\n",
    "def thank(p1n,p2n,p1p,p2p):\n",
    "    print(p1n,\"Your Score is\",p1p)\n",
    "    print(p2n,\"Your Score is\",p2p)\n",
    "    print(\"Thank you for playing\")\n",
    "def play():\n",
    "    p1n=input(\"Enter the name of Player 1:\")\n",
    "    p2n=input(\"Enter the name of Player 2:\")\n",
    "    p1p=0\n",
    "    p2p=0\n",
    "    turn=0\n",
    "    while(1):\n",
    "        picked_word=choose()\n",
    "        qn=jumble(picked_word)\n",
    "        print(\"The question is:\",qn)\n",
    "        if(turn%2==0):\n",
    "            print(p2n,\"Your turn\")\n",
    "            ans=input(\"Enter your answer:\")\n",
    "            if(ans==picked_word):\n",
    "                p2p+=1\n",
    "                print(\"The question was:\",qn)\n",
    "                print(\"The answer you given is:\",ans)\n",
    "                print(\"Congrats Bro! You won\")\n",
    "            else:\n",
    "                print(\"Better luck next time Bro\")\n",
    "            c=int(input(\"Do you want to Exit then press 1:\"))\n",
    "            if(c==1):\n",
    "                thank(p1n,p2n,p1p,p2p)\n",
    "                break\n",
    "        else:\n",
    "            print(p1n,\"Your turn\")\n",
    "            ans=input(\"Enter your answer:\")\n",
    "            if(ans==picked_word):\n",
    "                p1p+=1\n",
    "                print(\"The question was:\",qn)\n",
    "                print(\"The answer you given is:\",ans)\n",
    "                print(\"Congrats Bro! you won\")\n",
    "            else:\n",
    "                print(\"Better luck next time\")\n",
    "            c=int(input(\"Do you want to exit the  press 1:\"))\n",
    "            if(c==1):\n",
    "                thank(p1n,p2n,p1p,p2p)\n",
    "                break\n",
    "        turn+=1\n",
    "play()"
   ]
  },
  {
   "cell_type": "code",
   "execution_count": null,
   "id": "d5a1b251-99b8-4c34-8884-75f3727f9a18",
   "metadata": {},
   "outputs": [],
   "source": []
  }
 ],
 "metadata": {
  "kernelspec": {
   "display_name": "Python 3 (ipykernel)",
   "language": "python",
   "name": "python3"
  },
  "language_info": {
   "codemirror_mode": {
    "name": "ipython",
    "version": 3
   },
   "file_extension": ".py",
   "mimetype": "text/x-python",
   "name": "python",
   "nbconvert_exporter": "python",
   "pygments_lexer": "ipython3",
   "version": "3.12.5"
  }
 },
 "nbformat": 4,
 "nbformat_minor": 5
}
