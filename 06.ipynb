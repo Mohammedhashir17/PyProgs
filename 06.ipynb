{
 "cells": [
  {
   "cell_type": "code",
   "execution_count": null,
   "id": "a2cff12e-0703-4e61-aadb-e0f411c0223a",
   "metadata": {},
   "outputs": [],
   "source": [
    "import random \n",
    "import datetime \n",
    "\n",
    "birthday = [] \n",
    "i = 0 \n",
    "\n",
    "while i < 50: \n",
    "    # Generate random year\n",
    "    year = random.randint(1875, 2019) \n",
    "    \n",
    "    # Determine if the year is a leap year\n",
    "    if (year % 4 == 0 and year % 100 != 0) or (year % 400 == 0): \n",
    "        leap = 1 \n",
    "    else: \n",
    "        leap = 0 \n",
    "    \n",
    "    # Generate random month\n",
    "    month = random.randint(1, 12) \n",
    "    \n",
    "    # Determine the day based on month and leap year\n",
    "    if month == 2 and leap == 1: \n",
    "        day = random.randint(1, 29) \n",
    "    elif month == 2 and leap == 0: \n",
    "        day = random.randint(1, 28) \n",
    "    elif month in [7, 8]:  # July and August\n",
    "        day = random.randint(1, 31) \n",
    "    elif month % 2 != 0 and month < 7: \n",
    "        day = random.randint(1, 31) \n",
    "    elif month % 2 != 0 and month > 7 and month < 12: \n",
    "        day = random.randint(1, 31) \n",
    "    else: \n",
    "        day = random.randint(1, 30) \n",
    "    \n",
    "    # Create a date object\n",
    "    dd = datetime.date(year, month, day) \n",
    "    \n",
    "    # Calculate the day of the year\n",
    "    day_of_year = dd.timetuple().tm_yday \n",
    "    \n",
    "    # Append to the list\n",
    "    birthday.append(day_of_year) \n",
    "    i += 1 \n",
    "\n",
    "# Sort the birthdays by day of the year\n",
    "birthday.sort() \n",
    "\n",
    "# Print the sorted list\n",
    "for i in range(50): \n",
    "    print(birthday[i])"
   ]
  },
  {
   "cell_type": "code",
   "execution_count": null,
   "id": "db6386f5-faf2-47a3-8116-cc7433c01a4a",
   "metadata": {},
   "outputs": [],
   "source": []
  }
 ],
 "metadata": {
  "kernelspec": {
   "display_name": "Python 3 (ipykernel)",
   "language": "python",
   "name": "python3"
  },
  "language_info": {
   "codemirror_mode": {
    "name": "ipython",
    "version": 3
   },
   "file_extension": ".py",
   "mimetype": "text/x-python",
   "name": "python",
   "nbconvert_exporter": "python",
   "pygments_lexer": "ipython3",
   "version": "3.12.5"
  }
 },
 "nbformat": 4,
 "nbformat_minor": 5
}
